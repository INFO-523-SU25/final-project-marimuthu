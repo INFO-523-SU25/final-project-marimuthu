{
 "cells": [
  {
   "cell_type": "code",
   "execution_count": 3,
   "id": "3de14ed4",
   "metadata": {},
   "outputs": [
    {
     "name": "stdout",
     "output_type": "stream",
     "text": [
      "head \n",
      "        videoId                                              title  \\\n",
      "0  FbXOsVByKmk  They Call Him OG - Firestorm Lyric Video | Paw...   \n",
      "1  qeVfT2iLiu0  Coolie - Official Trailer | Superstar Rajinika...   \n",
      "2  VCqOcfGebaY  2025 PMWC at EWC Grand Finals D2 | English Co ...   \n",
      "3  enjkcCdAlXc  Aavan Jaavan Song | WAR 2 | Hrithik Roshan, Ki...   \n",
      "4  KkggRAFMg5c  Coolie | Trailer Reaction | Superstar Rajinika...   \n",
      "\n",
      "       channelTitle categoryId           publishedAt viewCount likeCount  \\\n",
      "0  Sony Music South         10  2025-08-02T08:53:07Z   4880098    641168   \n",
      "1            Sun TV         24  2025-08-02T13:30:25Z   9825816    588809   \n",
      "2       Snax Gaming         20  2025-08-02T15:55:41Z   1076294     54896   \n",
      "3               YRF         10  2025-07-31T05:41:16Z  21057184    320699   \n",
      "4     LifeofShazzam         24  2025-08-02T14:15:38Z    267028     21712   \n",
      "\n",
      "  commentCount   duration  \n",
      "0        27050     PT4M6S  \n",
      "1        26836     PT3M2S  \n",
      "2          115  PT4H51M1S  \n",
      "3        15007       PT4M  \n",
      "4         1126    PT8M20S  \n",
      "Saved trending videos to data/youtube_api_sample.csv\n"
     ]
    }
   ],
   "source": [
    "\n",
    "from googleapiclient.discovery import build\n",
    "import pandas as pd\n",
    "from dotenv import load_dotenv\n",
    "import os\n",
    "\n",
    "# Replace with your API key\n",
    "load_dotenv()  # take environment variables from .env\n",
    "api_key = os.getenv(\"YOUTUBE_API_KEY\")\n",
    "\n",
    "youtube = build(\"youtube\", \"v3\", developerKey=api_key)\n",
    "\n",
    "# Call API to get trending videos in India\n",
    "request = youtube.videos().list(\n",
    "    part=\"snippet,statistics,contentDetails\",\n",
    "    chart=\"mostPopular\",\n",
    "    regionCode=\"IN\",\n",
    "    maxResults=50\n",
    ")\n",
    "response = request.execute()\n",
    "\n",
    "# Extract and flatten data\n",
    "records = []\n",
    "for item in response[\"items\"]:\n",
    "    record = {\n",
    "        \"videoId\": item[\"id\"],\n",
    "        \"title\": item[\"snippet\"][\"title\"],\n",
    "        \"channelTitle\": item[\"snippet\"][\"channelTitle\"],\n",
    "        \"categoryId\": item[\"snippet\"][\"categoryId\"],\n",
    "        \"publishedAt\": item[\"snippet\"][\"publishedAt\"],\n",
    "        \"viewCount\": item[\"statistics\"].get(\"viewCount\"),\n",
    "        \"likeCount\": item[\"statistics\"].get(\"likeCount\"),\n",
    "        \"commentCount\": item[\"statistics\"].get(\"commentCount\"),\n",
    "        \"duration\": item[\"contentDetails\"].get(\"duration\"),\n",
    "    }\n",
    "    records.append(record)\n",
    "\n",
    "# Convert to DataFrame and save\n",
    "df = pd.DataFrame(records)\n",
    "print(\"head \\n\",df.head())\n",
    "df.to_csv(\"../data/youtube_api_sample.csv\", index=False)\n",
    "print(\"Saved trending videos to data/youtube_api_sample.csv\")\n"
   ]
  }
 ],
 "metadata": {
  "kernelspec": {
   "display_name": "Python 3",
   "language": "python",
   "name": "python3"
  },
  "language_info": {
   "codemirror_mode": {
    "name": "ipython",
    "version": 3
   },
   "file_extension": ".py",
   "mimetype": "text/x-python",
   "name": "python",
   "nbconvert_exporter": "python",
   "pygments_lexer": "ipython3",
   "version": "3.11.9"
  }
 },
 "nbformat": 4,
 "nbformat_minor": 5
}
